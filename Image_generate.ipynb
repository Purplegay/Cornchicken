{
  "nbformat": 4,
  "nbformat_minor": 0,
  "metadata": {
    "colab": {
      "provenance": [],
      "include_colab_link": true
    },
    "kernelspec": {
      "name": "python3",
      "display_name": "Python 3"
    },
    "language_info": {
      "name": "python"
    },
    "accelerator": "GPU",
    "gpuClass": "standard"
  },
  "cells": [
    {
      "cell_type": "markdown",
      "metadata": {
        "id": "view-in-github",
        "colab_type": "text"
      },
      "source": [
        "<a href=\"https://colab.research.google.com/github/Purplegay/Cornchicken/blob/master/Image_generate.ipynb\" target=\"_parent\"><img src=\"https://colab.research.google.com/assets/colab-badge.svg\" alt=\"Open In Colab\"/></a>"
      ]
    },
    {
      "cell_type": "code",
      "source": [
        "!nvidia-smi"
      ],
      "metadata": {
        "id": "3uyiDs7oiJ_-"
      },
      "execution_count": null,
      "outputs": []
    },
    {
      "cell_type": "code",
      "execution_count": null,
      "metadata": {
        "id": "gyI8ya4oTY7S"
      },
      "outputs": [],
      "source": [
        "!apt-get -y install -qq aria2\n",
        "!pip install -q https://github.com/camenduru/stable-diffusion-webui-colab/releases/download/0.0.16/xformers-0.0.16+814314d.d20230118-cp38-cp38-linux_x86_64.whl\n",
        "!pip install -q --pre triton\n",
        "\n",
        "!git clone https://github.com/AUTOMATIC1111/stable-diffusion-webui\n",
        "%cd /content/stable-diffusion-webui/extensions/\n",
        "\n",
        "# tag自动补全插件（可选）\n",
        "!git clone https://github.com/DominikDoom/a1111-sd-webui-tagcomplete.git tag-autocomplete\n",
        "\n",
        "# 下载审美渐变插件（可选）\n",
        "!git clone https://github.com/AUTOMATIC1111/stable-diffusion-webui-aesthetic-gradients aesthetic-gradients\n",
        "    \n",
        "# 下载历史记录/图像浏览器插件（可选）\n",
        "!git clone https://github.com/yfszzx/stable-diffusion-webui-images-browser images-browser\n",
        "    \n",
        "# 中文UI界面翻译插件（可选）\n",
        "!git clone https://github.com/dtlnor/stable-diffusion-webui-localization-zh_CN localization-zh_CN\n",
        "    \n",
        "# lora networks插件（可选）\n",
        "!git clone https://github.com/kohya-ss/sd-webui-additional-networks sd-webui-additional-networks\n",
        "\n",
        "#controlnet插件（可选）\n",
        "!git clone https://jihulab.com/hunter0725/sd-webui-controlnet sd-webui-controlnet\n",
        "\n",
        "\n"
      ]
    },
    {
      "cell_type": "code",
      "source": [
        "%cd /content/stable-diffusion-webui\n",
        "!sed -i -e '''/prepare_environment()/a\\    os.system\\(f\\\"\"\"sed -i -e ''\\\"s/self.logvar\\[t\\]/self.logvar\\[t.item()\\]/g\\\"'' /content/stable-diffusion-webui/repositories/stable-diffusion-stability-ai/ldm/models/diffusion/ddpm.py\"\"\")''' /content/stable-diffusion-webui/launch.py\n",
        "!sed -i -e '''/prepare_environment()/a\\    os.system\\(f\\\"\"\"sed -i -e ''\\\"s/dict()))/dict())).cuda()/g\\\"'' /content/stable-diffusion-webui/repositories/stable-diffusion-stability-ai/ldm/util.py\"\"\")''' /content/stable-diffusion-webui/launch.py\n",
        "!sed -i '$a fastapi==0.90.0' requirements_versions.txt\n"
      ],
      "metadata": {
        "id": "Wuz01Xx6tsvK",
        "colab": {
          "base_uri": "https://localhost:8080/"
        },
        "outputId": "6fb7fe00-3db2-474e-db6f-bc73f64a221a"
      },
      "execution_count": null,
      "outputs": [
        {
          "output_type": "stream",
          "name": "stdout",
          "text": [
            "/content/stable-diffusion-webui\n"
          ]
        }
      ]
    },
    {
      "cell_type": "code",
      "source": [
        "!python -m pip install --upgrade fastapi==0.90.1 "
      ],
      "metadata": {
        "id": "NtKaaOMxmQtG"
      },
      "execution_count": null,
      "outputs": []
    },
    {
      "cell_type": "code",
      "source": [
        "!wget https://civitai.com/api/download/models/11745 -O /content/stable-diffusion-webui/models/Stable-diffusion/Chilloutmix.safetensors"
      ],
      "metadata": {
        "id": "HD2ie0cgjtQf"
      },
      "execution_count": null,
      "outputs": []
    },
    {
      "cell_type": "code",
      "source": [
        "!mkdir /content/stable-diffusion-webui/models/Lora/\n",
        "!wget https://civitai.com/api/download/models/8750 -O /content/stable-diffusion-webui/models/Lora/koreanDollLikeness_v10.safetensors\n",
        "!wget https://civitai.com/api/download/models/12050 -O /content/stable-diffusion-webui/models/Lora/japaneseDollLikeness_v10.safetensors\n",
        "!wget https://civitai.com/api/download/models/11708 -O /content/stable-diffusion-webui/models/Lora/dihuangjiangv7.safetensors\n",
        "!wget https://civitai.com/api/download/models/15788 -O /content/stable-diffusion-webui/models/Lora/guanxiaoyuRe_v10.safetensors\n",
        "!wget https://civitai.com/api/download/models/16362 -O /content/stable-diffusion-webui/models/Lora/aqua_v10.safetensors"
      ],
      "metadata": {
        "id": "bZUeTZ1nubdC"
      },
      "execution_count": null,
      "outputs": []
    },
    {
      "cell_type": "code",
      "source": [
        "!wget https://civitai.com/api/download/models/16362 -O /content/stable-diffusion-webui/models/Lora/aqua_v10.safetensors"
      ],
      "metadata": {
        "id": "YAk0RF6ClDa6"
      },
      "execution_count": null,
      "outputs": []
    },
    {
      "cell_type": "code",
      "source": [
        "!wget https://huggingface.co/stabilityai/sd-vae-ft-mse-original/resolve/main/vae-ft-mse-840000-ema-pruned.safetensors -O /content/stable-diffusion-webui/models/VAE/vae-ft-mse-840000-ema-pruned.safetensors"
      ],
      "metadata": {
        "id": "CrBgC3zpBBOx"
      },
      "execution_count": null,
      "outputs": []
    },
    {
      "cell_type": "code",
      "source": [
        "\n",
        "%cd /content/stable-diffusion-webui\n",
        "!COMMANDLINE_ARGS=\"--share --gradio-debug --xformers\" REQS_FILE=\"requirements.txt\" python launch.py"
      ],
      "metadata": {
        "id": "edvm1Jt_zKcZ"
      },
      "execution_count": null,
      "outputs": []
    }
  ]
}