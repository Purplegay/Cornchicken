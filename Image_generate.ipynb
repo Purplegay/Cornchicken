{
  "nbformat": 4,
  "nbformat_minor": 0,
  "metadata": {
    "colab": {
      "provenance": [],
      "include_colab_link": true
    },
    "kernelspec": {
      "name": "python3",
      "display_name": "Python 3"
    },
    "language_info": {
      "name": "python"
    },
    "accelerator": "GPU",
    "gpuClass": "standard"
  },
  "cells": [
    {
      "cell_type": "markdown",
      "metadata": {
        "id": "view-in-github",
        "colab_type": "text"
      },
      "source": [
        "<a href=\"https://colab.research.google.com/github/Purplegay/Cornchicken/blob/master/Image_generate.ipynb\" target=\"_parent\"><img src=\"https://colab.research.google.com/assets/colab-badge.svg\" alt=\"Open In Colab\"/></a>"
      ]
    },
    {
      "cell_type": "code",
      "source": [
        "!nvidia-smi"
      ],
      "metadata": {
        "id": "3uyiDs7oiJ_-"
      },
      "execution_count": null,
      "outputs": []
    },
    {
      "cell_type": "code",
      "execution_count": null,
      "metadata": {
        "id": "gyI8ya4oTY7S"
      },
      "outputs": [],
      "source": [
        "!apt-get -y install -qq aria2\n",
        "!pip install -q https://github.com/camenduru/stable-diffusion-webui-colab/releases/download/0.0.16/xformers-0.0.16+814314d.d20230118-cp38-cp38-linux_x86_64.whl\n",
        "!pip install -q --pre triton\n",
        "\n",
        "!git clone https://github.com/AUTOMATIC1111/stable-diffusion-webui\n",
        "%cd /content/stable-diffusion-webui/extensions/\n",
        "\n",
        "# tag自动补全插件（可选）\n",
        "!git clone https://github.com/DominikDoom/a1111-sd-webui-tagcomplete.git tag-autocomplete\n",
        "\n",
        "# 下载审美渐变插件（可选）\n",
        "!git clone https://github.com/AUTOMATIC1111/stable-diffusion-webui-aesthetic-gradients aesthetic-gradients\n",
        "    \n",
        "# 下载历史记录/图像浏览器插件（可选）\n",
        "!git clone https://github.com/yfszzx/stable-diffusion-webui-images-browser images-browser\n",
        "    \n",
        "# 中文UI界面翻译插件（可选）\n",
        "!git clone https://github.com/dtlnor/stable-diffusion-webui-localization-zh_CN localization-zh_CN\n",
        "    \n",
        "# lora networks插件（可选）\n",
        "!git clone https://github.com/kohya-ss/sd-webui-additional-networks sd-webui-additional-networks\n",
        "\n",
        "#controlnet插件（可选）\n",
        "!git clone https://jihulab.com/hunter0725/sd-webui-controlnet sd-webui-controlnet\n",
        "\n",
        "\n"
      ]
    },
    {
      "cell_type": "code",
      "source": [
        "%cd /content/stable-diffusion-webui\n",
        "!sed -i -e '''/prepare_environment()/a\\    os.system\\(f\\\"\"\"sed -i -e ''\\\"s/self.logvar\\[t\\]/self.logvar\\[t.item()\\]/g\\\"'' /content/stable-diffusion-webui/repositories/stable-diffusion-stability-ai/ldm/models/diffusion/ddpm.py\"\"\")''' /content/stable-diffusion-webui/launch.py\n",
        "!sed -i -e '''/prepare_environment()/a\\    os.system\\(f\\\"\"\"sed -i -e ''\\\"s/dict()))/dict())).cuda()/g\\\"'' /content/stable-diffusion-webui/repositories/stable-diffusion-stability-ai/ldm/util.py\"\"\")''' /content/stable-diffusion-webui/launch.py\n",
        "!sed -i '$a fastapi==0.90.0' requirements_versions.txt\n"
      ],
      "metadata": {
        "id": "Wuz01Xx6tsvK",
        "colab": {
          "base_uri": "https://localhost:8080/"
        },
        "outputId": "42d8876a-1b04-4c9a-8a20-4a2156b06e74"
      },
      "execution_count": 3,
      "outputs": [
        {
          "output_type": "stream",
          "name": "stdout",
          "text": [
            "/content/stable-diffusion-webui\n"
          ]
        }
      ]
    },
    {
      "cell_type": "code",
      "source": [
        "!python -m pip install --upgrade fastapi==0.90.1 "
      ],
      "metadata": {
        "id": "NtKaaOMxmQtG"
      },
      "execution_count": null,
      "outputs": []
    },
    {
      "cell_type": "code",
      "source": [
        "!wget https://civitai.com/api/download/models/11745 -O /content/stable-diffusion-webui/models/Stable-diffusion/Chilloutmix.safetensors\n",
        "!wget https://civitai.com/api/download/models/5021 -O /content/stable-diffusion-webui/models/Stable-diffusion/abyssorangemix2SFW_abyssorangemix2Sfw.safetensors"
      ],
      "metadata": {
        "id": "HD2ie0cgjtQf"
      },
      "execution_count": null,
      "outputs": []
    },
    {
      "cell_type": "code",
      "source": [
        "!mkdir /content/stable-diffusion-webui/models/Lora/\n",
        "!wget https://huggingface.co/klx1204/DollLikeness/resolve/main/koreanDollLikeness_v15.safetensors -O /content/stable-diffusion-webui/models/Lora/koreanDollLikeness_v10.safetensors\n",
        "!wget https://civitai.com/api/download/models/11708 -O /content/stable-diffusion-webui/models/Lora/dihuangjiangv7.safetensors\n",
        "!wget https://civitai.com/api/download/models/15788 -O /content/stable-diffusion-webui/models/Lora/guanxiaoyuRe_v10.safetensors\n",
        "!wget https://civitai.com/api/download/models/16362 -O /content/stable-diffusion-webui/models/Lora/aqua_v10.safetensors\n",
        "!wget https://civitai.com/api/download/models/9413 -O /content/stable-diffusion-webui/models/Lora/figmaAnimeFigures_figma.safetensors"
      ],
      "metadata": {
        "id": "bZUeTZ1nubdC"
      },
      "execution_count": null,
      "outputs": []
    },
    {
      "cell_type": "code",
      "source": [
        "!wget https://huggingface.co/stabilityai/sd-vae-ft-mse-original/resolve/main/vae-ft-mse-840000-ema-pruned.safetensors -O /content/stable-diffusion-webui/models/VAE/vae-ft-mse-840000-ema-pruned.safetensors"
      ],
      "metadata": {
        "id": "CrBgC3zpBBOx",
        "colab": {
          "base_uri": "https://localhost:8080/"
        },
        "outputId": "09423041-6108-4459-a659-b65f00a47501"
      },
      "execution_count": 7,
      "outputs": [
        {
          "output_type": "stream",
          "name": "stdout",
          "text": [
            "--2023-03-14 07:13:24--  https://huggingface.co/stabilityai/sd-vae-ft-mse-original/resolve/main/vae-ft-mse-840000-ema-pruned.safetensors\n",
            "Resolving huggingface.co (huggingface.co)... 18.215.84.205, 52.204.1.121, 3.222.58.47, ...\n",
            "Connecting to huggingface.co (huggingface.co)|18.215.84.205|:443... connected.\n",
            "HTTP request sent, awaiting response... 302 Found\n",
            "Location: https://cdn-lfs.huggingface.co/repos/ec/ee/eceee26c5834d8a75cf04eeb17dfc06d1d5fe1d80c2f19520b148c11e2e98c45/735e4c3a447a3255760d7f86845f09f937809baa529c17370d83e4c3758f3c75?response-content-disposition=attachment%3B+filename*%3DUTF-8%27%27vae-ft-mse-840000-ema-pruned.safetensors%3B+filename%3D%22vae-ft-mse-840000-ema-pruned.safetensors%22%3B&Expires=1679036487&Policy=eyJTdGF0ZW1lbnQiOlt7IlJlc291cmNlIjoiaHR0cHM6Ly9jZG4tbGZzLmh1Z2dpbmdmYWNlLmNvL3JlcG9zL2VjL2VlL2VjZWVlMjZjNTgzNGQ4YTc1Y2YwNGVlYjE3ZGZjMDZkMWQ1ZmUxZDgwYzJmMTk1MjBiMTQ4YzExZTJlOThjNDUvNzM1ZTRjM2E0NDdhMzI1NTc2MGQ3Zjg2ODQ1ZjA5ZjkzNzgwOWJhYTUyOWMxNzM3MGQ4M2U0YzM3NThmM2M3NT9yZXNwb25zZS1jb250ZW50LWRpc3Bvc2l0aW9uPSoiLCJDb25kaXRpb24iOnsiRGF0ZUxlc3NUaGFuIjp7IkFXUzpFcG9jaFRpbWUiOjE2NzkwMzY0ODd9fX1dfQ__&Signature=MpkSc2MH8cwSkLwSq39-rKPmGYBsptkQRUxxPsRfmmwbsjw59XUp2qGInrsbudy%7Ez-cM6nGQqj5KsH-ak7ABjdobMgJ4xwSt4gtwyZNnjBsOUe50L67M3bX-XgnvUuNt38kEGWZLAGvNE2tMGn7XP2p5KbjSkD94avEMv06Um3iq6EEr3Xr2RNMlyWYvyQxdfnq8itV4UO9PVPLIspjnOvUBzxFqSj7%7EOtyM6C9krBiz-GNcUbwUlAfX0N329b5GnremjBBtae77m3GU65A5yjqsILfYpl01cuuOMh2Xp-JsblXtm7lvzBYx5z9R97gOMA2Eukj9jYltPb7fJg%7EyoA__&Key-Pair-Id=KVTP0A1DKRTAX [following]\n",
            "--2023-03-14 07:13:24--  https://cdn-lfs.huggingface.co/repos/ec/ee/eceee26c5834d8a75cf04eeb17dfc06d1d5fe1d80c2f19520b148c11e2e98c45/735e4c3a447a3255760d7f86845f09f937809baa529c17370d83e4c3758f3c75?response-content-disposition=attachment%3B+filename*%3DUTF-8%27%27vae-ft-mse-840000-ema-pruned.safetensors%3B+filename%3D%22vae-ft-mse-840000-ema-pruned.safetensors%22%3B&Expires=1679036487&Policy=eyJTdGF0ZW1lbnQiOlt7IlJlc291cmNlIjoiaHR0cHM6Ly9jZG4tbGZzLmh1Z2dpbmdmYWNlLmNvL3JlcG9zL2VjL2VlL2VjZWVlMjZjNTgzNGQ4YTc1Y2YwNGVlYjE3ZGZjMDZkMWQ1ZmUxZDgwYzJmMTk1MjBiMTQ4YzExZTJlOThjNDUvNzM1ZTRjM2E0NDdhMzI1NTc2MGQ3Zjg2ODQ1ZjA5ZjkzNzgwOWJhYTUyOWMxNzM3MGQ4M2U0YzM3NThmM2M3NT9yZXNwb25zZS1jb250ZW50LWRpc3Bvc2l0aW9uPSoiLCJDb25kaXRpb24iOnsiRGF0ZUxlc3NUaGFuIjp7IkFXUzpFcG9jaFRpbWUiOjE2NzkwMzY0ODd9fX1dfQ__&Signature=MpkSc2MH8cwSkLwSq39-rKPmGYBsptkQRUxxPsRfmmwbsjw59XUp2qGInrsbudy%7Ez-cM6nGQqj5KsH-ak7ABjdobMgJ4xwSt4gtwyZNnjBsOUe50L67M3bX-XgnvUuNt38kEGWZLAGvNE2tMGn7XP2p5KbjSkD94avEMv06Um3iq6EEr3Xr2RNMlyWYvyQxdfnq8itV4UO9PVPLIspjnOvUBzxFqSj7%7EOtyM6C9krBiz-GNcUbwUlAfX0N329b5GnremjBBtae77m3GU65A5yjqsILfYpl01cuuOMh2Xp-JsblXtm7lvzBYx5z9R97gOMA2Eukj9jYltPb7fJg%7EyoA__&Key-Pair-Id=KVTP0A1DKRTAX\n",
            "Resolving cdn-lfs.huggingface.co (cdn-lfs.huggingface.co)... 18.65.229.73, 18.65.229.83, 18.65.229.16, ...\n",
            "Connecting to cdn-lfs.huggingface.co (cdn-lfs.huggingface.co)|18.65.229.73|:443... connected.\n",
            "HTTP request sent, awaiting response... 200 OK\n",
            "Length: 334641190 (319M) [binary/octet-stream]\n",
            "Saving to: ‘/content/stable-diffusion-webui/models/VAE/vae-ft-mse-840000-ema-pruned.safetensors’\n",
            "\n",
            "/content/stable-dif 100%[===================>] 319.14M   274MB/s    in 1.2s    \n",
            "\n",
            "2023-03-14 07:13:25 (274 MB/s) - ‘/content/stable-diffusion-webui/models/VAE/vae-ft-mse-840000-ema-pruned.safetensors’ saved [334641190/334641190]\n",
            "\n"
          ]
        }
      ]
    },
    {
      "cell_type": "code",
      "source": [
        "\n",
        "%cd /content/stable-diffusion-webui\n",
        "!COMMANDLINE_ARGS=\"--share --gradio-debug --xformers\" REQS_FILE=\"requirements.txt\" python launch.py"
      ],
      "metadata": {
        "id": "edvm1Jt_zKcZ",
        "outputId": "eac90505-339e-4f11-c1b3-1a05834db3e7",
        "colab": {
          "base_uri": "https://localhost:8080/"
        }
      },
      "execution_count": null,
      "outputs": [
        {
          "output_type": "stream",
          "name": "stdout",
          "text": [
            "\n",
            " 90% 18/20 [00:39<00:04,  2.25s/it]\n",
            " 95% 19/20 [00:41<00:02,  2.24s/it]\n",
            "100% 20/20 [00:43<00:00,  2.15s/it]\n",
            "\n",
            "Total progress: 100% 20/20 [00:43<00:00,  2.19s/it]\n"
          ]
        }
      ]
    },
    {
      "cell_type": "code",
      "source": [
        "!wget https://huggingface.co/duthanhduoc/chilloutmix-set/resolve/main/koreanDollLikeness_v10.safetensors -O /content/stable-diffusion-webui/models/Lora/koreanDollLikeness_v10.safetensors"
      ],
      "metadata": {
        "id": "mMR6ag6H7yYR"
      },
      "execution_count": null,
      "outputs": []
    }
  ]
}