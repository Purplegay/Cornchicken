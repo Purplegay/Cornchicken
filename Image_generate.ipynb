{
  "cells": [
    {
      "cell_type": "markdown",
      "metadata": {
        "id": "view-in-github",
        "colab_type": "text"
      },
      "source": [
        "<a href=\"https://colab.research.google.com/github/Purplegay/Cornchicken/blob/master/Image_generate.ipynb\" target=\"_parent\"><img src=\"https://colab.research.google.com/assets/colab-badge.svg\" alt=\"Open In Colab\"/></a>"
      ]
    },
    {
      "cell_type": "code",
      "execution_count": 1,
      "metadata": {
        "colab": {
          "base_uri": "https://localhost:8080/"
        },
        "id": "3uyiDs7oiJ_-",
        "outputId": "871c20c8-25d2-4252-9f92-0915ef314613"
      },
      "outputs": [
        {
          "output_type": "stream",
          "name": "stdout",
          "text": [
            "Wed Mar 29 08:52:03 2023       \n",
            "+-----------------------------------------------------------------------------+\n",
            "| NVIDIA-SMI 525.85.12    Driver Version: 525.85.12    CUDA Version: 12.0     |\n",
            "|-------------------------------+----------------------+----------------------+\n",
            "| GPU  Name        Persistence-M| Bus-Id        Disp.A | Volatile Uncorr. ECC |\n",
            "| Fan  Temp  Perf  Pwr:Usage/Cap|         Memory-Usage | GPU-Util  Compute M. |\n",
            "|                               |                      |               MIG M. |\n",
            "|===============================+======================+======================|\n",
            "|   0  Tesla T4            Off  | 00000000:00:04.0 Off |                    0 |\n",
            "| N/A   35C    P8     9W /  70W |      0MiB / 15360MiB |      0%      Default |\n",
            "|                               |                      |                  N/A |\n",
            "+-------------------------------+----------------------+----------------------+\n",
            "                                                                               \n",
            "+-----------------------------------------------------------------------------+\n",
            "| Processes:                                                                  |\n",
            "|  GPU   GI   CI        PID   Type   Process name                  GPU Memory |\n",
            "|        ID   ID                                                   Usage      |\n",
            "|=============================================================================|\n",
            "|  No running processes found                                                 |\n",
            "+-----------------------------------------------------------------------------+\n"
          ]
        }
      ],
      "source": [
        "!nvidia-smi"
      ]
    },
    {
      "cell_type": "code",
      "execution_count": null,
      "metadata": {
        "id": "gyI8ya4oTY7S"
      },
      "outputs": [],
      "source": [
        "!apt-get -y install -qq aria2\n",
        "!pip install -q https://github.com/camenduru/stable-diffusion-webui-colab/releases/download/0.0.16/xformers-0.0.16+814314d.d20230118-cp38-cp38-linux_x86_64.whl\n",
        "!pip install -q --pre triton\n",
        "\n",
        "!git clone https://github.com/AUTOMATIC1111/stable-diffusion-webui\n",
        "%cd /content/stable-diffusion-webui/extensions/\n",
        "\n",
        "# tag自动补全插件（可选）\n",
        "!git clone https://github.com/DominikDoom/a1111-sd-webui-tagcomplete.git tag-autocomplete\n",
        "\n",
        "# 下载审美渐变插件（可选）\n",
        "!git clone https://github.com/AUTOMATIC1111/stable-diffusion-webui-aesthetic-gradients aesthetic-gradients\n",
        "    \n",
        "# 下载历史记录/图像浏览器插件（可选）\n",
        "!git clone https://github.com/yfszzx/stable-diffusion-webui-images-browser images-browser\n",
        "    \n",
        "# 中文UI界面翻译插件（可选）\n",
        "!git clone https://github.com/dtlnor/stable-diffusion-webui-localization-zh_CN localization-zh_CN\n",
        "    \n",
        "# lora networks插件（可选）\n",
        "!git clone https://github.com/kohya-ss/sd-webui-additional-networks sd-webui-additional-networks\n",
        "\n",
        "#controlnet插件（可选）\n",
        "!git clone https://jihulab.com/hunter0725/sd-webui-controlnet sd-webui-controlnet\n",
        "\n",
        "\n"
      ]
    },
    {
      "cell_type": "code",
      "execution_count": 3,
      "metadata": {
        "colab": {
          "base_uri": "https://localhost:8080/"
        },
        "id": "Wuz01Xx6tsvK",
        "outputId": "638b9cef-db15-41ef-ac2a-07933f241539"
      },
      "outputs": [
        {
          "output_type": "stream",
          "name": "stdout",
          "text": [
            "/content/stable-diffusion-webui\n"
          ]
        }
      ],
      "source": [
        "%cd /content/stable-diffusion-webui\n",
        "!sed -i -e '''/prepare_environment()/a\\    os.system\\(f\\\"\"\"sed -i -e ''\\\"s/self.logvar\\[t\\]/self.logvar\\[t.item()\\]/g\\\"'' /content/stable-diffusion-webui/repositories/stable-diffusion-stability-ai/ldm/models/diffusion/ddpm.py\"\"\")''' /content/stable-diffusion-webui/launch.py\n",
        "!sed -i -e '''/prepare_environment()/a\\    os.system\\(f\\\"\"\"sed -i -e ''\\\"s/dict()))/dict())).cuda()/g\\\"'' /content/stable-diffusion-webui/repositories/stable-diffusion-stability-ai/ldm/util.py\"\"\")''' /content/stable-diffusion-webui/launch.py\n",
        "!sed -i '$a fastapi==0.90.0' requirements_versions.txt\n"
      ]
    },
    {
      "cell_type": "code",
      "execution_count": null,
      "metadata": {
        "id": "NtKaaOMxmQtG"
      },
      "outputs": [],
      "source": [
        "!python -m pip install --upgrade fastapi==0.90.1 "
      ]
    },
    {
      "cell_type": "code",
      "execution_count": null,
      "metadata": {
        "id": "HD2ie0cgjtQf"
      },
      "outputs": [],
      "source": [
        "!wget https://civitai.com/api/download/models/11745 -O /content/stable-diffusion-webui/models/Stable-diffusion/Chilloutmix.safetensors\n",
        "!wget https://civitai.com/api/download/models/5021 -O /content/stable-diffusion-webui/models/Stable-diffusion/abyssorangemix2SFW_abyssorangemix2Sfw.safetensors"
      ]
    },
    {
      "cell_type": "code",
      "execution_count": null,
      "metadata": {
        "id": "bZUeTZ1nubdC"
      },
      "outputs": [],
      "source": [
        "!mkdir /content/stable-diffusion-webui/models/Lora/\n",
        "!wget https://civitai.com/api/download/models/22968 -O /content/stable-diffusion-webui/models/Lora/koreanDollLikeness_v10.safetensors\n",
        "!wget https://civitai.com/api/download/models/11708 -O /content/stable-diffusion-webui/models/Lora/dihuangjiangv7.safetensors\n",
        "!wget https://civitai.com/api/download/models/15788 -O /content/stable-diffusion-webui/models/Lora/guanxiaoyuRe_v10.safetensors\n",
        "!wget https://civitai.com/api/download/models/16362 -O /content/stable-diffusion-webui/models/Lora/aqua_v10.safetensors\n",
        "!wget https://civitai.com/api/download/models/9413 -O /content/stable-diffusion-webui/models/Lora/figmaAnimeFigures_figma.safetensors\n",
        "!wget https://civitai.com/api/download/models/28615 -O /content/stable-diffusion-webui/models/Lora/aiGRAVSAKIMIXx_v1.safetensors"
      ]
    },
    {
      "cell_type": "code",
      "execution_count": null,
      "metadata": {
        "id": "CrBgC3zpBBOx"
      },
      "outputs": [],
      "source": [
        "!wget https://huggingface.co/stabilityai/sd-vae-ft-mse-original/resolve/main/vae-ft-mse-840000-ema-pruned.safetensors -O /content/stable-diffusion-webui/models/VAE/vae-ft-mse-840000-ema-pruned.safetensors"
      ]
    },
    {
      "cell_type": "code",
      "execution_count": null,
      "metadata": {
        "colab": {
          "base_uri": "https://localhost:8080/"
        },
        "id": "edvm1Jt_zKcZ",
        "outputId": "2e307f0b-e410-4ff2-bc0c-836e82a895e1"
      },
      "outputs": [
        {
          "output_type": "stream",
          "name": "stdout",
          "text": [
            "/content/stable-diffusion-webui\n",
            "Python 3.9.16 (main, Dec  7 2022, 01:11:51) \n",
            "[GCC 9.4.0]\n",
            "Commit hash: 22bcc7be428c94e9408f589966c2040187245d81\n",
            "Installing requirements for Web UI\n",
            "\n",
            "Launching Web UI with arguments: --share --gradio-debug --xformers\n"
          ]
        }
      ],
      "source": [
        "\n",
        "%cd /content/stable-diffusion-webui\n",
        "!COMMANDLINE_ARGS=\"--share --gradio-debug --xformers\" REQS_FILE=\"requirements.txt\" python launch.py"
      ]
    },
    {
      "cell_type": "code",
      "source": [
        "!wget https://civitai.com/api/download/models/28615 -O /content/stable-diffusion-webui/models/Lora/aiGRAVSAKIMIXx_v1.safetensors"
      ],
      "metadata": {
        "id": "u0NpVXLKnVAB"
      },
      "execution_count": null,
      "outputs": []
    }
  ],
  "metadata": {
    "accelerator": "GPU",
    "colab": {
      "provenance": [],
      "include_colab_link": true
    },
    "gpuClass": "standard",
    "kernelspec": {
      "display_name": "Python 3",
      "name": "python3"
    },
    "language_info": {
      "name": "python"
    }
  },
  "nbformat": 4,
  "nbformat_minor": 0
}