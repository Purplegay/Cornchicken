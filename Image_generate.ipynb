{
  "nbformat": 4,
  "nbformat_minor": 0,
  "metadata": {
    "colab": {
      "provenance": [],
      "include_colab_link": true
    },
    "kernelspec": {
      "name": "python3",
      "display_name": "Python 3"
    },
    "language_info": {
      "name": "python"
    },
    "accelerator": "GPU",
    "gpuClass": "standard"
  },
  "cells": [
    {
      "cell_type": "markdown",
      "metadata": {
        "id": "view-in-github",
        "colab_type": "text"
      },
      "source": [
        "<a href=\"https://colab.research.google.com/github/Purplegay/Cornchicken/blob/master/Image_generate.ipynb\" target=\"_parent\"><img src=\"https://colab.research.google.com/assets/colab-badge.svg\" alt=\"Open In Colab\"/></a>"
      ]
    },
    {
      "cell_type": "code",
      "source": [
        "!nvidia-smi"
      ],
      "metadata": {
        "id": "3uyiDs7oiJ_-"
      },
      "execution_count": null,
      "outputs": []
    },
    {
      "cell_type": "code",
      "execution_count": null,
      "metadata": {
        "id": "gyI8ya4oTY7S"
      },
      "outputs": [],
      "source": [
        "!apt-get -y install -qq aria2\n",
        "!pip install -q https://github.com/camenduru/stable-diffusion-webui-colab/releases/download/0.0.16/xformers-0.0.16+814314d.d20230118-cp38-cp38-linux_x86_64.whl\n",
        "!pip install -q --pre triton\n",
        "\n",
        "!git clone https://github.com/AUTOMATIC1111/stable-diffusion-webui\n",
        "%cd /content/stable-diffusion-webui/extensions/\n",
        "\n",
        "# tag自动补全插件（可选）\n",
        "!git clone https://github.com/DominikDoom/a1111-sd-webui-tagcomplete.git tag-autocomplete\n",
        "\n",
        "# 下载审美渐变插件（可选）\n",
        "!git clone https://github.com/AUTOMATIC1111/stable-diffusion-webui-aesthetic-gradients aesthetic-gradients\n",
        "    \n",
        "# 下载历史记录/图像浏览器插件（可选）\n",
        "!git clone https://github.com/yfszzx/stable-diffusion-webui-images-browser images-browser\n",
        "    \n",
        "# 中文UI界面翻译插件（可选）\n",
        "!git clone https://github.com/dtlnor/stable-diffusion-webui-localization-zh_CN localization-zh_CN\n",
        "    \n",
        "# lora networks插件（可选）\n",
        "!git clone https://github.com/kohya-ss/sd-webui-additional-networks sd-webui-additional-networks\n",
        "\n",
        "#controlnet插件（可选）\n",
        "!git clone https://jihulab.com/hunter0725/sd-webui-controlnet sd-webui-controlnet\n",
        "\n",
        "\n"
      ]
    },
    {
      "cell_type": "code",
      "source": [
        "%cd /content/stable-diffusion-webui\n",
        "!sed -i -e '''/prepare_environment()/a\\    os.system\\(f\\\"\"\"sed -i -e ''\\\"s/self.logvar\\[t\\]/self.logvar\\[t.item()\\]/g\\\"'' /content/stable-diffusion-webui/repositories/stable-diffusion-stability-ai/ldm/models/diffusion/ddpm.py\"\"\")''' /content/stable-diffusion-webui/launch.py\n",
        "!sed -i -e '''/prepare_environment()/a\\    os.system\\(f\\\"\"\"sed -i -e ''\\\"s/dict()))/dict())).cuda()/g\\\"'' /content/stable-diffusion-webui/repositories/stable-diffusion-stability-ai/ldm/util.py\"\"\")''' /content/stable-diffusion-webui/launch.py\n",
        "!sed -i '$a fastapi==0.90.0' requirements_versions.txt\n"
      ],
      "metadata": {
        "id": "Wuz01Xx6tsvK"
      },
      "execution_count": null,
      "outputs": []
    },
    {
      "cell_type": "code",
      "source": [
        "!python -m pip install --upgrade fastapi==0.90.1 "
      ],
      "metadata": {
        "id": "NtKaaOMxmQtG"
      },
      "execution_count": null,
      "outputs": []
    },
    {
      "cell_type": "code",
      "source": [
        "!wget https://civitai.com/api/download/models/11745 -O /content/stable-diffusion-webui/models/Stable-diffusion/Chilloutmix.safetensors"
      ],
      "metadata": {
        "id": "HD2ie0cgjtQf"
      },
      "execution_count": null,
      "outputs": []
    },
    {
      "cell_type": "code",
      "source": [
        "!wget https://civitai.com/api/download/models/8750 -O /content/stable-diffusion-webui/models/Lora/koreanDollLikeness_v10.safetensors\n",
        "!wget https://civitai.com/api/download/models/12050 -O /content/stable-diffusion-webui/models/Lora/japaneseDollLikeness_v10.safetensors"
      ],
      "metadata": {
        "id": "bZUeTZ1nubdC"
      },
      "execution_count": null,
      "outputs": []
    },
    {
      "cell_type": "code",
      "source": [
        "!wget https://huggingface.co/stabilityai/sd-vae-ft-mse-original/resolve/main/vae-ft-mse-840000-ema-pruned.safetensors -O /content/stable-diffusion-webui/models/VAE/vae-ft-mse-840000-ema-pruned.safetensors"
      ],
      "metadata": {
        "id": "CrBgC3zpBBOx"
      },
      "execution_count": null,
      "outputs": []
    },
    {
      "cell_type": "code",
      "source": [
        "\n",
        "%cd /content/stable-diffusion-webui\n",
        "!COMMANDLINE_ARGS=\"--share --gradio-debug --xformers\" REQS_FILE=\"requirements.txt\" python launch.py"
      ],
      "metadata": {
        "colab": {
          "base_uri": "https://localhost:8080/"
        },
        "id": "edvm1Jt_zKcZ",
        "outputId": "60d4d73b-ad25-46b8-a8ee-a2dd546ec2b2"
      },
      "execution_count": null,
      "outputs": [
        {
          "output_type": "stream",
          "name": "stdout",
          "text": [
            " 27% 4/15 [00:08<00:22,  2.04s/it]\n",
            " 33% 5/15 [00:10<00:20,  2.05s/it]\n",
            " 40% 6/15 [00:12<00:18,  2.06s/it]\n",
            " 47% 7/15 [00:14<00:16,  2.06s/it]\n",
            " 53% 8/15 [00:16<00:14,  2.07s/it]\n",
            " 60% 9/15 [00:18<00:12,  2.08s/it]\n",
            " 67% 10/15 [00:20<00:10,  2.09s/it]\n",
            " 73% 11/15 [00:22<00:08,  2.11s/it]\n",
            " 80% 12/15 [00:24<00:06,  2.12s/it]\n",
            " 87% 13/15 [00:27<00:04,  2.13s/it]\n",
            " 93% 14/15 [00:29<00:02,  2.13s/it]\n",
            "100% 15/15 [00:30<00:00,  2.02s/it]\n",
            "Total progress: 100% 15/15 [00:30<00:00,  2.03s/it]\n"
          ]
        }
      ]
    }
  ]
}